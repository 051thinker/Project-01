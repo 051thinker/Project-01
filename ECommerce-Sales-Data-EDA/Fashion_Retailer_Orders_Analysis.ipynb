{
 "cells": [
  {
   "cell_type": "markdown",
   "metadata": {},
   "source": [
    "# A Fashion Retailer Sales Data Analysis Task\n",
    "\n",
    "**In this notebook the following questions will be investigated and answered, using a fashion retailer's e-commerce sales data. This retailer's focus is on menswear and providing high-quality and well-fitted t-shirts, trousers, jeans and shorts to men. Dataset represents real sales data between November 1st, 2018 - April 30th, 2019 and it is anonymized for confidentiality.**\n",
    "\n",
    "1) On what day did we make the most Gross Sales?\n",
    "  - Why would it make sense for this to be our biggest sales day?\n",
    "\n",
    "2) Which product type did we sell the most units of?\n",
    "  - What business decisions could we make knowing this information?\n",
    "\n",
    "3) What does the distribution of waist sizes look like?\n",
    "  - What does this say about our existing customer base?\n",
    "  \n",
    "4) What is our unit return rate?\n",
    "  - Bonus points: what is our unit return rate for customers who ordered multiple sizes?\n",
    "\n",
    "**Some open ended questions to consider:**\n",
    "\n",
    "5) Did you find anything interesting in the way this data is structured?\n",
    "\n",
    "6) What analysis could we run using this data?"
   ]
  },
  {
   "cell_type": "code",
   "execution_count": 1,
   "metadata": {},
   "outputs": [],
   "source": [
    "# import relevant libraries\n",
    "from ipywidgets import interact, interact_manual\n",
    "import ipywidgets as widgets\n",
    "import pandas as pd\n",
    "from IPython.display import display\n",
    "import seaborn as sns\n",
    "import matplotlib.pyplot as plt\n",
    "\n",
    "%matplotlib inline\n",
    "# to include graphs inline within the frontends next to code\n",
    "\n",
    "pd.options.mode.chained_assignment = None\n",
    "# to bypass warnings in various dataframe assignments"
   ]
  },
  {
   "cell_type": "code",
   "execution_count": 2,
   "metadata": {
    "scrolled": false
   },
   "outputs": [],
   "source": [
    "# load data into a dataframe\n",
    "orders = pd.read_csv(\"Orders - Analysis Task.csv\")"
   ]
  },
  {
   "cell_type": "markdown",
   "metadata": {},
   "source": [
    "<h2> Investigate data"
   ]
  },
  {
   "cell_type": "code",
   "execution_count": 3,
   "metadata": {
    "scrolled": false
   },
   "outputs": [
    {
     "data": {
      "text/html": [
       "<div>\n",
       "<style scoped>\n",
       "    .dataframe tbody tr th:only-of-type {\n",
       "        vertical-align: middle;\n",
       "    }\n",
       "\n",
       "    .dataframe tbody tr th {\n",
       "        vertical-align: top;\n",
       "    }\n",
       "\n",
       "    .dataframe thead th {\n",
       "        text-align: right;\n",
       "    }\n",
       "</style>\n",
       "<table border=\"1\" class=\"dataframe\">\n",
       "  <thead>\n",
       "    <tr style=\"text-align: right;\">\n",
       "      <th></th>\n",
       "      <th>product_title</th>\n",
       "      <th>product_type</th>\n",
       "      <th>variant_title</th>\n",
       "      <th>variant_sku</th>\n",
       "      <th>variant_id</th>\n",
       "      <th>customer_id</th>\n",
       "      <th>order_id</th>\n",
       "      <th>day</th>\n",
       "      <th>net_quantity</th>\n",
       "      <th>gross_sales</th>\n",
       "      <th>discounts</th>\n",
       "      <th>returns</th>\n",
       "      <th>net_sales</th>\n",
       "      <th>taxes</th>\n",
       "      <th>total_sales</th>\n",
       "      <th>returned_item_quantity</th>\n",
       "      <th>ordered_item_quantity</th>\n",
       "    </tr>\n",
       "  </thead>\n",
       "  <tbody>\n",
       "    <tr>\n",
       "      <td>0</td>\n",
       "      <td>Gift Card</td>\n",
       "      <td>Gift Card</td>\n",
       "      <td>100</td>\n",
       "      <td>5b978d8936953</td>\n",
       "      <td>42714701065</td>\n",
       "      <td>2101736645</td>\n",
       "      <td>837678000000</td>\n",
       "      <td>04/12/2018</td>\n",
       "      <td>2</td>\n",
       "      <td>200.0</td>\n",
       "      <td>-200.00</td>\n",
       "      <td>0.00</td>\n",
       "      <td>0.0</td>\n",
       "      <td>0.0</td>\n",
       "      <td>0.0</td>\n",
       "      <td>0</td>\n",
       "      <td>2</td>\n",
       "    </tr>\n",
       "    <tr>\n",
       "      <td>1</td>\n",
       "      <td>Charcoal</td>\n",
       "      <td>Product P</td>\n",
       "      <td>28 / Build A / Made To Measure</td>\n",
       "      <td>MTM-SHP-DRK-GRY-Z-000000</td>\n",
       "      <td>21778900000000</td>\n",
       "      <td>603222000000</td>\n",
       "      <td>961220000000</td>\n",
       "      <td>01/04/2019</td>\n",
       "      <td>2</td>\n",
       "      <td>190.0</td>\n",
       "      <td>-190.00</td>\n",
       "      <td>0.00</td>\n",
       "      <td>0.0</td>\n",
       "      <td>0.0</td>\n",
       "      <td>0.0</td>\n",
       "      <td>0</td>\n",
       "      <td>2</td>\n",
       "    </tr>\n",
       "    <tr>\n",
       "      <td>2</td>\n",
       "      <td>Fawn Cord</td>\n",
       "      <td>Product B</td>\n",
       "      <td>32 / Build B / Finished to Order</td>\n",
       "      <td>WW-CRD-MID-BRN-D-32B0000</td>\n",
       "      <td>12521700000000</td>\n",
       "      <td>852469000000</td>\n",
       "      <td>632762000000</td>\n",
       "      <td>05/11/2018</td>\n",
       "      <td>0</td>\n",
       "      <td>164.8</td>\n",
       "      <td>-156.56</td>\n",
       "      <td>-8.24</td>\n",
       "      <td>0.0</td>\n",
       "      <td>0.0</td>\n",
       "      <td>0.0</td>\n",
       "      <td>-2</td>\n",
       "      <td>2</td>\n",
       "    </tr>\n",
       "    <tr>\n",
       "      <td>3</td>\n",
       "      <td>Ammonite</td>\n",
       "      <td>Product F</td>\n",
       "      <td>40 / Build B / Finished to Order</td>\n",
       "      <td>PR-HDY-MED-BRN-D-40B0000</td>\n",
       "      <td>21513000000000</td>\n",
       "      <td>734218000000</td>\n",
       "      <td>921052000000</td>\n",
       "      <td>19/02/2019</td>\n",
       "      <td>1</td>\n",
       "      <td>119.0</td>\n",
       "      <td>-119.00</td>\n",
       "      <td>0.00</td>\n",
       "      <td>0.0</td>\n",
       "      <td>0.0</td>\n",
       "      <td>0.0</td>\n",
       "      <td>0</td>\n",
       "      <td>1</td>\n",
       "    </tr>\n",
       "    <tr>\n",
       "      <td>4</td>\n",
       "      <td>Ammonite</td>\n",
       "      <td>Product F</td>\n",
       "      <td>40 / Build B / Finished to Order</td>\n",
       "      <td>PR-HDY-MED-BRN-D-40B0000</td>\n",
       "      <td>21513000000000</td>\n",
       "      <td>734218000000</td>\n",
       "      <td>921054000000</td>\n",
       "      <td>19/02/2019</td>\n",
       "      <td>1</td>\n",
       "      <td>119.0</td>\n",
       "      <td>-119.00</td>\n",
       "      <td>0.00</td>\n",
       "      <td>0.0</td>\n",
       "      <td>0.0</td>\n",
       "      <td>0.0</td>\n",
       "      <td>0</td>\n",
       "      <td>1</td>\n",
       "    </tr>\n",
       "  </tbody>\n",
       "</table>\n",
       "</div>"
      ],
      "text/plain": [
       "  product_title product_type                     variant_title  \\\n",
       "0     Gift Card    Gift Card                               100   \n",
       "1      Charcoal    Product P    28 / Build A / Made To Measure   \n",
       "2     Fawn Cord    Product B  32 / Build B / Finished to Order   \n",
       "3      Ammonite    Product F  40 / Build B / Finished to Order   \n",
       "4      Ammonite    Product F  40 / Build B / Finished to Order   \n",
       "\n",
       "                variant_sku      variant_id   customer_id      order_id  \\\n",
       "0             5b978d8936953     42714701065    2101736645  837678000000   \n",
       "1  MTM-SHP-DRK-GRY-Z-000000  21778900000000  603222000000  961220000000   \n",
       "2  WW-CRD-MID-BRN-D-32B0000  12521700000000  852469000000  632762000000   \n",
       "3  PR-HDY-MED-BRN-D-40B0000  21513000000000  734218000000  921052000000   \n",
       "4  PR-HDY-MED-BRN-D-40B0000  21513000000000  734218000000  921054000000   \n",
       "\n",
       "          day  net_quantity  gross_sales  discounts  returns  net_sales  \\\n",
       "0  04/12/2018             2        200.0    -200.00     0.00        0.0   \n",
       "1  01/04/2019             2        190.0    -190.00     0.00        0.0   \n",
       "2  05/11/2018             0        164.8    -156.56    -8.24        0.0   \n",
       "3  19/02/2019             1        119.0    -119.00     0.00        0.0   \n",
       "4  19/02/2019             1        119.0    -119.00     0.00        0.0   \n",
       "\n",
       "   taxes  total_sales  returned_item_quantity  ordered_item_quantity  \n",
       "0    0.0          0.0                       0                      2  \n",
       "1    0.0          0.0                       0                      2  \n",
       "2    0.0          0.0                      -2                      2  \n",
       "3    0.0          0.0                       0                      1  \n",
       "4    0.0          0.0                       0                      1  "
      ]
     },
     "metadata": {},
     "output_type": "display_data"
    }
   ],
   "source": [
    "# first rows of the dataset\n",
    "display(orders.head())"
   ]
  },
  {
   "cell_type": "code",
   "execution_count": 4,
   "metadata": {},
   "outputs": [
    {
     "data": {
      "text/html": [
       "<div>\n",
       "<style scoped>\n",
       "    .dataframe tbody tr th:only-of-type {\n",
       "        vertical-align: middle;\n",
       "    }\n",
       "\n",
       "    .dataframe tbody tr th {\n",
       "        vertical-align: top;\n",
       "    }\n",
       "\n",
       "    .dataframe thead th {\n",
       "        text-align: right;\n",
       "    }\n",
       "</style>\n",
       "<table border=\"1\" class=\"dataframe\">\n",
       "  <thead>\n",
       "    <tr style=\"text-align: right;\">\n",
       "      <th></th>\n",
       "      <th>product_title</th>\n",
       "      <th>product_type</th>\n",
       "      <th>variant_title</th>\n",
       "      <th>variant_sku</th>\n",
       "      <th>variant_id</th>\n",
       "      <th>customer_id</th>\n",
       "      <th>order_id</th>\n",
       "      <th>day</th>\n",
       "      <th>net_quantity</th>\n",
       "      <th>gross_sales</th>\n",
       "      <th>discounts</th>\n",
       "      <th>returns</th>\n",
       "      <th>net_sales</th>\n",
       "      <th>taxes</th>\n",
       "      <th>total_sales</th>\n",
       "      <th>returned_item_quantity</th>\n",
       "      <th>ordered_item_quantity</th>\n",
       "    </tr>\n",
       "  </thead>\n",
       "  <tbody>\n",
       "    <tr>\n",
       "      <td>70047</td>\n",
       "      <td>Garnet</td>\n",
       "      <td>Product P</td>\n",
       "      <td>33 / Build A / Finished to Order</td>\n",
       "      <td>CH-SHP-DRK-PRL-D-33A0000</td>\n",
       "      <td>12520400000000</td>\n",
       "      <td>1132090000000</td>\n",
       "      <td>862020000000</td>\n",
       "      <td>22/02/2019</td>\n",
       "      <td>-3</td>\n",
       "      <td>0.0</td>\n",
       "      <td>0.0</td>\n",
       "      <td>-213.75</td>\n",
       "      <td>-213.75</td>\n",
       "      <td>-42.75</td>\n",
       "      <td>-256.5</td>\n",
       "      <td>-3</td>\n",
       "      <td>0</td>\n",
       "    </tr>\n",
       "    <tr>\n",
       "      <td>70048</td>\n",
       "      <td>Olive</td>\n",
       "      <td>Product H</td>\n",
       "      <td>33 / Build B / Finished to Order</td>\n",
       "      <td>CH-HER-MED-GRN-Z-33B0000</td>\n",
       "      <td>27002491081</td>\n",
       "      <td>593430000000</td>\n",
       "      <td>935046000000</td>\n",
       "      <td>14/03/2019</td>\n",
       "      <td>-3</td>\n",
       "      <td>0.0</td>\n",
       "      <td>0.0</td>\n",
       "      <td>-222.49</td>\n",
       "      <td>-222.49</td>\n",
       "      <td>-44.51</td>\n",
       "      <td>-267.0</td>\n",
       "      <td>-3</td>\n",
       "      <td>0</td>\n",
       "    </tr>\n",
       "    <tr>\n",
       "      <td>70049</td>\n",
       "      <td>Graphite</td>\n",
       "      <td>Product H</td>\n",
       "      <td>33 / Build C / Finished to Order</td>\n",
       "      <td>CH-HER-MED-GRY-Z-33C0000</td>\n",
       "      <td>27002501513</td>\n",
       "      <td>659081000000</td>\n",
       "      <td>611334000000</td>\n",
       "      <td>19/11/2018</td>\n",
       "      <td>-3</td>\n",
       "      <td>0.0</td>\n",
       "      <td>0.0</td>\n",
       "      <td>-222.50</td>\n",
       "      <td>-222.50</td>\n",
       "      <td>-44.50</td>\n",
       "      <td>-267.0</td>\n",
       "      <td>-3</td>\n",
       "      <td>0</td>\n",
       "    </tr>\n",
       "    <tr>\n",
       "      <td>70050</td>\n",
       "      <td>Khaki</td>\n",
       "      <td>Product P</td>\n",
       "      <td>40 / Build B / Finished to Order</td>\n",
       "      <td>CH-SHP-MED-BRN-Z-40B0000</td>\n",
       "      <td>2322640000000</td>\n",
       "      <td>5578386761</td>\n",
       "      <td>955727000000</td>\n",
       "      <td>08/04/2019</td>\n",
       "      <td>-3</td>\n",
       "      <td>0.0</td>\n",
       "      <td>0.0</td>\n",
       "      <td>-237.49</td>\n",
       "      <td>-237.49</td>\n",
       "      <td>-47.50</td>\n",
       "      <td>-285.0</td>\n",
       "      <td>-3</td>\n",
       "      <td>0</td>\n",
       "    </tr>\n",
       "    <tr>\n",
       "      <td>70051</td>\n",
       "      <td>Dark Navy</td>\n",
       "      <td>Product P</td>\n",
       "      <td>38 / Build C / Finished to Order</td>\n",
       "      <td>CH-SHP-DRK-NVY-Z-38C0000</td>\n",
       "      <td>27002549449</td>\n",
       "      <td>1122550000000</td>\n",
       "      <td>840194000000</td>\n",
       "      <td>02/01/2019</td>\n",
       "      <td>-3</td>\n",
       "      <td>0.0</td>\n",
       "      <td>0.0</td>\n",
       "      <td>-237.50</td>\n",
       "      <td>-237.50</td>\n",
       "      <td>-47.50</td>\n",
       "      <td>-285.0</td>\n",
       "      <td>-3</td>\n",
       "      <td>0</td>\n",
       "    </tr>\n",
       "  </tbody>\n",
       "</table>\n",
       "</div>"
      ],
      "text/plain": [
       "      product_title product_type                     variant_title  \\\n",
       "70047        Garnet    Product P  33 / Build A / Finished to Order   \n",
       "70048         Olive    Product H  33 / Build B / Finished to Order   \n",
       "70049      Graphite    Product H  33 / Build C / Finished to Order   \n",
       "70050         Khaki    Product P  40 / Build B / Finished to Order   \n",
       "70051     Dark Navy    Product P  38 / Build C / Finished to Order   \n",
       "\n",
       "                    variant_sku      variant_id    customer_id      order_id  \\\n",
       "70047  CH-SHP-DRK-PRL-D-33A0000  12520400000000  1132090000000  862020000000   \n",
       "70048  CH-HER-MED-GRN-Z-33B0000     27002491081   593430000000  935046000000   \n",
       "70049  CH-HER-MED-GRY-Z-33C0000     27002501513   659081000000  611334000000   \n",
       "70050  CH-SHP-MED-BRN-Z-40B0000   2322640000000     5578386761  955727000000   \n",
       "70051  CH-SHP-DRK-NVY-Z-38C0000     27002549449  1122550000000  840194000000   \n",
       "\n",
       "              day  net_quantity  gross_sales  discounts  returns  net_sales  \\\n",
       "70047  22/02/2019            -3          0.0        0.0  -213.75    -213.75   \n",
       "70048  14/03/2019            -3          0.0        0.0  -222.49    -222.49   \n",
       "70049  19/11/2018            -3          0.0        0.0  -222.50    -222.50   \n",
       "70050  08/04/2019            -3          0.0        0.0  -237.49    -237.49   \n",
       "70051  02/01/2019            -3          0.0        0.0  -237.50    -237.50   \n",
       "\n",
       "       taxes  total_sales  returned_item_quantity  ordered_item_quantity  \n",
       "70047 -42.75       -256.5                      -3                      0  \n",
       "70048 -44.51       -267.0                      -3                      0  \n",
       "70049 -44.50       -267.0                      -3                      0  \n",
       "70050 -47.50       -285.0                      -3                      0  \n",
       "70051 -47.50       -285.0                      -3                      0  "
      ]
     },
     "metadata": {},
     "output_type": "display_data"
    }
   ],
   "source": [
    "# last rows of the dataset\n",
    "display(orders.tail())"
   ]
  },
  {
   "cell_type": "code",
   "execution_count": 5,
   "metadata": {},
   "outputs": [
    {
     "name": "stdout",
     "output_type": "stream",
     "text": [
      "<class 'pandas.core.frame.DataFrame'>\n",
      "RangeIndex: 70052 entries, 0 to 70051\n",
      "Data columns (total 17 columns):\n",
      "product_title             70052 non-null object\n",
      "product_type              70052 non-null object\n",
      "variant_title             70052 non-null object\n",
      "variant_sku               70052 non-null object\n",
      "variant_id                70052 non-null int64\n",
      "customer_id               70052 non-null int64\n",
      "order_id                  70052 non-null int64\n",
      "day                       70052 non-null object\n",
      "net_quantity              70052 non-null int64\n",
      "gross_sales               70052 non-null float64\n",
      "discounts                 70052 non-null float64\n",
      "returns                   70052 non-null float64\n",
      "net_sales                 70052 non-null float64\n",
      "taxes                     70052 non-null float64\n",
      "total_sales               70052 non-null float64\n",
      "returned_item_quantity    70052 non-null int64\n",
      "ordered_item_quantity     70052 non-null int64\n",
      "dtypes: float64(6), int64(6), object(5)\n",
      "memory usage: 9.1+ MB\n",
      "None\n"
     ]
    }
   ],
   "source": [
    "# first glance of orders data\n",
    "print(orders.info())"
   ]
  },
  {
   "cell_type": "code",
   "execution_count": 6,
   "metadata": {},
   "outputs": [
    {
     "data": {
      "text/html": [
       "<div>\n",
       "<style scoped>\n",
       "    .dataframe tbody tr th:only-of-type {\n",
       "        vertical-align: middle;\n",
       "    }\n",
       "\n",
       "    .dataframe tbody tr th {\n",
       "        vertical-align: top;\n",
       "    }\n",
       "\n",
       "    .dataframe thead th {\n",
       "        text-align: right;\n",
       "    }\n",
       "</style>\n",
       "<table border=\"1\" class=\"dataframe\">\n",
       "  <thead>\n",
       "    <tr style=\"text-align: right;\">\n",
       "      <th></th>\n",
       "      <th>variant_id</th>\n",
       "      <th>customer_id</th>\n",
       "      <th>order_id</th>\n",
       "      <th>net_quantity</th>\n",
       "      <th>gross_sales</th>\n",
       "      <th>discounts</th>\n",
       "      <th>returns</th>\n",
       "      <th>net_sales</th>\n",
       "      <th>taxes</th>\n",
       "      <th>total_sales</th>\n",
       "      <th>returned_item_quantity</th>\n",
       "      <th>ordered_item_quantity</th>\n",
       "    </tr>\n",
       "  </thead>\n",
       "  <tbody>\n",
       "    <tr>\n",
       "      <td>count</td>\n",
       "      <td>7.005200e+04</td>\n",
       "      <td>7.005200e+04</td>\n",
       "      <td>7.005200e+04</td>\n",
       "      <td>70052.000000</td>\n",
       "      <td>70052.000000</td>\n",
       "      <td>70052.000000</td>\n",
       "      <td>70052.000000</td>\n",
       "      <td>70052.000000</td>\n",
       "      <td>70052.000000</td>\n",
       "      <td>70052.000000</td>\n",
       "      <td>70052.000000</td>\n",
       "      <td>70052.000000</td>\n",
       "    </tr>\n",
       "    <tr>\n",
       "      <td>mean</td>\n",
       "      <td>9.081233e+12</td>\n",
       "      <td>7.095048e+11</td>\n",
       "      <td>8.815426e+11</td>\n",
       "      <td>0.701179</td>\n",
       "      <td>61.776302</td>\n",
       "      <td>-4.949904</td>\n",
       "      <td>-10.246051</td>\n",
       "      <td>46.580348</td>\n",
       "      <td>9.123636</td>\n",
       "      <td>55.703982</td>\n",
       "      <td>-0.156098</td>\n",
       "      <td>0.857277</td>\n",
       "    </tr>\n",
       "    <tr>\n",
       "      <td>std</td>\n",
       "      <td>8.763055e+12</td>\n",
       "      <td>5.102126e+11</td>\n",
       "      <td>9.991412e+10</td>\n",
       "      <td>0.739497</td>\n",
       "      <td>31.800689</td>\n",
       "      <td>7.769972</td>\n",
       "      <td>25.154677</td>\n",
       "      <td>51.802690</td>\n",
       "      <td>10.305236</td>\n",
       "      <td>61.920557</td>\n",
       "      <td>0.369190</td>\n",
       "      <td>0.380820</td>\n",
       "    </tr>\n",
       "    <tr>\n",
       "      <td>min</td>\n",
       "      <td>2.700215e+10</td>\n",
       "      <td>1.279102e+08</td>\n",
       "      <td>2.222490e+11</td>\n",
       "      <td>-3.000000</td>\n",
       "      <td>0.000000</td>\n",
       "      <td>-200.000000</td>\n",
       "      <td>-237.500000</td>\n",
       "      <td>-237.500000</td>\n",
       "      <td>-47.500000</td>\n",
       "      <td>-285.000000</td>\n",
       "      <td>-3.000000</td>\n",
       "      <td>0.000000</td>\n",
       "    </tr>\n",
       "    <tr>\n",
       "      <td>25%</td>\n",
       "      <td>2.700257e+10</td>\n",
       "      <td>1.553940e+11</td>\n",
       "      <td>8.312448e+11</td>\n",
       "      <td>1.000000</td>\n",
       "      <td>51.670000</td>\n",
       "      <td>-8.340000</td>\n",
       "      <td>0.000000</td>\n",
       "      <td>47.080000</td>\n",
       "      <td>8.375000</td>\n",
       "      <td>56.227500</td>\n",
       "      <td>0.000000</td>\n",
       "      <td>1.000000</td>\n",
       "    </tr>\n",
       "    <tr>\n",
       "      <td>50%</td>\n",
       "      <td>1.252040e+13</td>\n",
       "      <td>7.367640e+11</td>\n",
       "      <td>8.794450e+11</td>\n",
       "      <td>1.000000</td>\n",
       "      <td>74.170000</td>\n",
       "      <td>0.000000</td>\n",
       "      <td>0.000000</td>\n",
       "      <td>63.330000</td>\n",
       "      <td>12.660000</td>\n",
       "      <td>76.000000</td>\n",
       "      <td>0.000000</td>\n",
       "      <td>1.000000</td>\n",
       "    </tr>\n",
       "    <tr>\n",
       "      <td>75%</td>\n",
       "      <td>1.538700e+13</td>\n",
       "      <td>1.148800e+12</td>\n",
       "      <td>9.434240e+11</td>\n",
       "      <td>1.000000</td>\n",
       "      <td>79.170000</td>\n",
       "      <td>0.000000</td>\n",
       "      <td>0.000000</td>\n",
       "      <td>74.170000</td>\n",
       "      <td>14.840000</td>\n",
       "      <td>89.000000</td>\n",
       "      <td>0.000000</td>\n",
       "      <td>1.000000</td>\n",
       "    </tr>\n",
       "    <tr>\n",
       "      <td>max</td>\n",
       "      <td>2.784400e+13</td>\n",
       "      <td>1.757800e+12</td>\n",
       "      <td>1.036870e+12</td>\n",
       "      <td>6.000000</td>\n",
       "      <td>445.000000</td>\n",
       "      <td>0.000000</td>\n",
       "      <td>0.000000</td>\n",
       "      <td>445.000000</td>\n",
       "      <td>63.340000</td>\n",
       "      <td>445.000000</td>\n",
       "      <td>0.000000</td>\n",
       "      <td>6.000000</td>\n",
       "    </tr>\n",
       "  </tbody>\n",
       "</table>\n",
       "</div>"
      ],
      "text/plain": [
       "         variant_id   customer_id      order_id  net_quantity   gross_sales  \\\n",
       "count  7.005200e+04  7.005200e+04  7.005200e+04  70052.000000  70052.000000   \n",
       "mean   9.081233e+12  7.095048e+11  8.815426e+11      0.701179     61.776302   \n",
       "std    8.763055e+12  5.102126e+11  9.991412e+10      0.739497     31.800689   \n",
       "min    2.700215e+10  1.279102e+08  2.222490e+11     -3.000000      0.000000   \n",
       "25%    2.700257e+10  1.553940e+11  8.312448e+11      1.000000     51.670000   \n",
       "50%    1.252040e+13  7.367640e+11  8.794450e+11      1.000000     74.170000   \n",
       "75%    1.538700e+13  1.148800e+12  9.434240e+11      1.000000     79.170000   \n",
       "max    2.784400e+13  1.757800e+12  1.036870e+12      6.000000    445.000000   \n",
       "\n",
       "          discounts       returns     net_sales         taxes   total_sales  \\\n",
       "count  70052.000000  70052.000000  70052.000000  70052.000000  70052.000000   \n",
       "mean      -4.949904    -10.246051     46.580348      9.123636     55.703982   \n",
       "std        7.769972     25.154677     51.802690     10.305236     61.920557   \n",
       "min     -200.000000   -237.500000   -237.500000    -47.500000   -285.000000   \n",
       "25%       -8.340000      0.000000     47.080000      8.375000     56.227500   \n",
       "50%        0.000000      0.000000     63.330000     12.660000     76.000000   \n",
       "75%        0.000000      0.000000     74.170000     14.840000     89.000000   \n",
       "max        0.000000      0.000000    445.000000     63.340000    445.000000   \n",
       "\n",
       "       returned_item_quantity  ordered_item_quantity  \n",
       "count            70052.000000           70052.000000  \n",
       "mean                -0.156098               0.857277  \n",
       "std                  0.369190               0.380820  \n",
       "min                 -3.000000               0.000000  \n",
       "25%                  0.000000               1.000000  \n",
       "50%                  0.000000               1.000000  \n",
       "75%                  0.000000               1.000000  \n",
       "max                  0.000000               6.000000  "
      ]
     },
     "metadata": {},
     "output_type": "display_data"
    }
   ],
   "source": [
    "# descriptive statistics of the non-object columns\n",
    "display(orders.describe())"
   ]
  },
  {
   "cell_type": "markdown",
   "metadata": {},
   "source": [
    "<h2> Visualize dataframe with widgets"
   ]
  },
  {
   "cell_type": "code",
   "execution_count": 7,
   "metadata": {},
   "outputs": [
    {
     "data": {
      "application/vnd.jupyter.widget-view+json": {
       "model_id": "2316190db7a04d6abca2f5309897bb2d",
       "version_major": 2,
       "version_minor": 0
      },
      "text/plain": [
       "interactive(children=(Dropdown(description='column', options=('gross_sales', 'net_sales', 'total_sales'), valu…"
      ]
     },
     "metadata": {},
     "output_type": "display_data"
    }
   ],
   "source": [
    "# list the rows that the company achieved most any kind of sales for a given limit\n",
    "@interact\n",
    "def show_sales_more_than(column = [\"gross_sales\", \"net_sales\", \"total_sales\"],\n",
    "                               x = widgets.IntSlider(min=0, max=500, step=10)):\n",
    "    return orders.loc[orders[column] > x]"
   ]
  },
  {
   "cell_type": "code",
   "execution_count": 8,
   "metadata": {},
   "outputs": [
    {
     "data": {
      "application/vnd.jupyter.widget-view+json": {
       "model_id": "812b210c6ed144f6b315f19bde74b945",
       "version_major": 2,
       "version_minor": 0
      },
      "text/plain": [
       "interactive(children=(Dropdown(description='x', options=('variant_id', 'customer_id', 'order_id', 'net_quantit…"
      ]
     },
     "metadata": {},
     "output_type": "display_data"
    }
   ],
   "source": [
    "# interactive scatterplot to visualize relationships between the numerical columns of the dataframe\n",
    "@interact\n",
    "def scatter_plot(x=list(orders.select_dtypes([\"int64\", \"float64\"]).columns), \n",
    "                 y=list(orders.select_dtypes([\"int64\", \"float64\"]).columns)[1:]):\n",
    "    plt.figure(figsize=(12,8))\n",
    "    sns.scatterplot(x=x, y=y, data=orders)\n",
    "    plt.ticklabel_format(style='plain', axis='y')\n",
    "    plt.title('%(y_title)s VS %(x_title)s' % {\"y_title\": y, \"x_title\": x})"
   ]
  },
  {
   "cell_type": "markdown",
   "metadata": {},
   "source": [
    "<h2> On what day did we make the most Gross Sales?\n",
    "    Why would it make sense for this to be our biggest sales day?"
   ]
  },
  {
   "cell_type": "code",
   "execution_count": 9,
   "metadata": {},
   "outputs": [
    {
     "name": "stdout",
     "output_type": "stream",
     "text": [
      "            day  gross_sales\n",
      "136  23/11/2018    179394.23\n",
      "154  26/11/2018    135499.95\n",
      "142  24/11/2018     85951.77\n",
      "155  26/12/2018     83141.42\n",
      "6    02/01/2019     81625.21\n"
     ]
    }
   ],
   "source": [
    "# data will be grouped and sorted per each day to see total gross sales\n",
    "orders_by_day = (orders\n",
    "                 .groupby(\"day\")\n",
    "                 .gross_sales.sum()\n",
    "                 .reset_index()\n",
    "                 .sort_values(by=['gross_sales'], ascending=False))\n",
    "\n",
    "print(orders_by_day.head())"
   ]
  },
  {
   "cell_type": "markdown",
   "metadata": {},
   "source": [
    "**Biggest sales happened around:**\n",
    "* 23-26th of November, 2018: Days around black Friday, where people are promoted to do shopping massively with crazy discount rates.\n",
    "* 2nd of January, 2019 and 26th of December, 2018: Christmas Eve and afterwards, holiday season shows its effects even after the New Year's with high sales.\n",
    "<br>\n",
    "<p> It makes sense since these dates corresponds to gift and shopping seasons. </p>\n",
    "<p> Total sales could give an alternative picture for this question, since it is the final amount after discounts, returns and tax. It also reflects how discounts affects purchasing decisions. <p/>"
   ]
  },
  {
   "cell_type": "code",
   "execution_count": 10,
   "metadata": {
    "hide_input": false
   },
   "outputs": [
    {
     "name": "stdout",
     "output_type": "stream",
     "text": [
      "            day  total_sales\n",
      "136  23/11/2018    162191.09\n",
      "154  26/11/2018    117613.61\n",
      "155  26/12/2018     95914.50\n",
      "6    02/01/2019     87628.85\n",
      "142  24/11/2018     82978.85\n"
     ]
    }
   ],
   "source": [
    "# same question is investigated for total_sales\n",
    "print(orders\n",
    "      .groupby(\"day\")\n",
    "      .total_sales.sum()\n",
    "      .reset_index()\n",
    "      .sort_values(by=['total_sales'], ascending=False).head())"
   ]
  },
  {
   "cell_type": "markdown",
   "metadata": {},
   "source": [
    "Sorting did not change much, biggest gross sales and total sales occured in the same days, invalidating my earlier suspicion."
   ]
  },
  {
   "cell_type": "markdown",
   "metadata": {},
   "source": [
    "<h2> Which product type did we sell the most units of? \n",
    "    What business decisions could we make knowing this information?"
   ]
  },
  {
   "cell_type": "markdown",
   "metadata": {},
   "source": [
    "There were significant number of rows whose `ordered_item_quantity` is 0 and `net_quantity` is less than 0, which means they are not ordered/sold at all; but the fact that they have returns requires investigation."
   ]
  },
  {
   "cell_type": "code",
   "execution_count": 11,
   "metadata": {},
   "outputs": [
    {
     "name": "stdout",
     "output_type": "stream",
     "text": [
      "Number of rows that net quantity is negative: 10715\n"
     ]
    }
   ],
   "source": [
    "print(\"Number of rows that net quantity is negative:\", orders[orders.net_quantity < 0].shape[0])"
   ]
  },
  {
   "cell_type": "markdown",
   "metadata": {},
   "source": [
    "**These rows will be excluded from the orders dataset for questions 2, 3, 4, since they distort the analysis.**"
   ]
  },
  {
   "cell_type": "code",
   "execution_count": 12,
   "metadata": {},
   "outputs": [],
   "source": [
    "# exclude not sold/ordered SKUs from the dataset\n",
    "positive_orders = orders[orders[\"ordered_item_quantity\"] > 0]"
   ]
  },
  {
   "cell_type": "code",
   "execution_count": 13,
   "metadata": {},
   "outputs": [
    {
     "data": {
      "image/png": "[encoded data removed]",
      "text/plain": [
       "<Figure size 1080x432 with 1 Axes>"
      ]
     },
     "metadata": {
      "needs_background": "light"
     },
     "output_type": "display_data"
    }
   ],
   "source": [
    "# data will be grouped by product type and analysis will be done by net_quantity\n",
    "# since net quantity represents the ordered_quantity - returned_quantity\n",
    "orders_by_product_type = (positive_orders\n",
    "                          .groupby(\"product_type\")\n",
    "                          .net_quantity.sum()\n",
    "                          .reset_index()\n",
    "                          .sort_values(by=['net_quantity'], ascending=False))\n",
    "\n",
    "# prepare plot\n",
    "plt.figure(figsize=(15,6))\n",
    "sns.set(font_scale=1.5, style=\"whitegrid\")\n",
    "\n",
    "# set color\n",
    "labels = np.array(orders_by_product_type.product_type)\n",
    "values = np.array(orders_by_product_type.net_quantity) \n",
    "colors = ['grey' if (x < 7500) # or max(values)\n",
    "          else 'blue' for x in values]\n",
    "\n",
    "# set the plot\n",
    "ax = sns.barplot(x=\"product_type\", \n",
    "                 y=\"net_quantity\", \n",
    "                 data=orders_by_product_type, \n",
    "                 palette = colors)\n",
    "\n",
    "# set title and arrange x,y ticks\n",
    "plt.title(\"Net Units Sold per Product Type\")\n",
    "for item in ax.get_xticklabels():\n",
    "    item.set_rotation(90)"
   ]
  },
  {
   "cell_type": "markdown",
   "metadata": {},
   "source": [
    "Product P and H have outnumbered other categories in net unit sales.\n",
    "\n",
    "* Product P is the minimal and simple design of the retailer with a contemporary look.\n",
    "* Product H is the signature design of the retailer with a classic and smart casual look.\n",
    "\n",
    "**Business Decisions:**\n",
    "* Classic, smart-casual and simple looks appeal more customers.\n",
    "* Collections that are not depending on seasons attract more people.\n",
    "* Frequency of purchase or bulk purchase with multiple colors for Product P and H collections might be higher than the other collections, since it seems they are filling the gap for the must-have's of a men's wardrobe.\n",
    "* Those collections inventory level must be higher than other collections, to prevent probability of stock out.\n",
    "* When company wants to grow more in terms of revenue, launch or targeted marketing of more classic and casual trousers collections might help."
   ]
  },
  {
   "cell_type": "markdown",
   "metadata": {},
   "source": [
    "<h2> What does the distribution of waist sizes look like?\n",
    "    What does this say about our existing customer base?"
   ]
  },
  {
   "cell_type": "code",
   "execution_count": 14,
   "metadata": {},
   "outputs": [],
   "source": [
    "# waist size is applicable for trousers, shorts and denims\n",
    "# create new dataframe for those\n",
    "trousers = positive_orders[(positive_orders.product_type != \"Gift Card\") \n",
    "                       & (positive_orders.product_type != \"Product R\") \n",
    "                       & (positive_orders.product_type != \"Product N\")]\n",
    "\n",
    "# waist size is embedded in the variant_title as first item: waist_size / build /  leg size or order type\n",
    "# fetch waist_size from the variant_title and convert to integer\n",
    "trousers[\"waist_size\"] = (trousers.variant_title\n",
    "                          .apply(lambda x: x.split()[0]))\n",
    "\n",
    "trousers[\"waist_size\"] = trousers.waist_size.astype('int64')"
   ]
  },
  {
   "cell_type": "code",
   "execution_count": 15,
   "metadata": {},
   "outputs": [
    {
     "data": {
      "image/png": "[encoded data removed]",
      "text/plain": [
       "<Figure size 864x576 with 1 Axes>"
      ]
     },
     "metadata": {},
     "output_type": "display_data"
    }
   ],
   "source": [
    "# prepare plot\n",
    "f, axes = plt.subplots(figsize=(12,8))\n",
    "\n",
    "# set the histogram, mean and median\n",
    "plt.hist(trousers.waist_size, \n",
    "         range=(trousers.waist_size.min(),trousers.waist_size.max()), \n",
    "         bins=12)\n",
    "\n",
    "plt.axvline(x=trousers.waist_size.mean(), \n",
    "            linewidth=3, \n",
    "            color='g', \n",
    "            label=\"mean\")\n",
    "\n",
    "plt.axvline(x=trousers.waist_size.median(), \n",
    "            linewidth=3, \n",
    "            color='y', \n",
    "            label=\"median\")\n",
    "\n",
    "# set title, legends and labels and xticks\n",
    "axes.set_xticks(range(28,41))\n",
    "plt.xlabel(\"Waist Size\")\n",
    "plt.ylabel(\"Count\")\n",
    "plt.title(\"Distribution of Waist Sizes\")\n",
    "plt.legend([\"mean\", \"median\"])\n",
    "plt.show()"
   ]
  },
  {
   "cell_type": "markdown",
   "metadata": {},
   "source": [
    "* Distribution has a peak at `waist_size` 34.\n",
    "* Distribution of the waist size shows unimodal and symmetric distribution.\n",
    "* Data is centered around the mean and median, 34, as mid-waist-size.\n",
    "* Existing customer base waist size is concentrated between 32-36.\n",
    "* This is a very useful data to plan production quantities of trousers/shorts/jeans in different sizes, production quantities or assortment of sizes can be determined based on this result.\n",
    "* Also, during a new category launch, more mid-waist-size trousers, denims or shorts should be produced."
   ]
  },
  {
   "cell_type": "markdown",
   "metadata": {},
   "source": [
    "<h3> What if we look at distribution of the waist size per collection, what results will it yield?"
   ]
  },
  {
   "cell_type": "code",
   "execution_count": 16,
   "metadata": {
    "scrolled": true
   },
   "outputs": [
    {
     "data": {
      "text/plain": [
       "Text(0.5, 1, 'Boxplot of Waist Size and Product Type')"
      ]
     },
     "execution_count": 16,
     "metadata": {},
     "output_type": "execute_result"
    },
    {
     "data": {
      "image/png": "[encoded data removed]",
      "text/plain": [
       "<Figure size 720x720 with 1 Axes>"
      ]
     },
     "metadata": {},
     "output_type": "display_data"
    }
   ],
   "source": [
    "# look at distribution of waist_size per product_type\n",
    "g = sns.catplot(x = \"product_type\", \n",
    "                y = \"waist_size\", \n",
    "                data = trousers, \n",
    "                kind = \"box\", \n",
    "                height = 10, \n",
    "                palette = \"Set1\")\n",
    "\n",
    "g.set_xticklabels(rotation = 90)\n",
    "plt.title('Boxplot of Waist Size and Product Type')"
   ]
  },
  {
   "cell_type": "markdown",
   "metadata": {},
   "source": [
    "* As expected, among the collections, waist size is concentrated between 32 and 36."
   ]
  },
  {
   "cell_type": "markdown",
   "metadata": {},
   "source": [
    "<h2> What is our unit return rate?\n",
    "    Bonus points: what is our unit return rate for customers who ordered multiple sizes?"
   ]
  },
  {
   "cell_type": "code",
   "execution_count": 17,
   "metadata": {},
   "outputs": [
    {
     "name": "stdout",
     "output_type": "stream",
     "text": [
      "The unit return rate is : 0.0012\n"
     ]
    }
   ],
   "source": [
    "# to look at unit return rate, ratio of all returned items to the ordered items will be investigated\n",
    "returned_sum = float(-1*(positive_orders[\"returned_item_quantity\"].sum()))\n",
    "\n",
    "ordered_sum = float(positive_orders[\"ordered_item_quantity\"].sum())\n",
    "\n",
    "unit_return_rate = returned_sum / ordered_sum\n",
    "\n",
    "print(\"The unit return rate is : \"'%.4f'%unit_return_rate)"
   ]
  },
  {
   "cell_type": "markdown",
   "metadata": {},
   "source": [
    "Unit return rate is %0.1, it might be benefical to investigate return rate per orders as well, which might give a better clue of return rate."
   ]
  },
  {
   "cell_type": "code",
   "execution_count": 18,
   "metadata": {},
   "outputs": [
    {
     "name": "stdout",
     "output_type": "stream",
     "text": [
      "Average return rate per order is: 0.0014\n"
     ]
    }
   ],
   "source": [
    "# aggregate data per orders, to see ordered item sum and returned sum\n",
    "ordered_sum_by_order = (positive_orders\n",
    "                        .groupby(\"order_id\")\n",
    "                        .ordered_item_quantity.sum()\n",
    "                        .reset_index())\n",
    "\n",
    "returned_sum_by_order = (positive_orders\n",
    "                         .groupby(\"order_id\")\n",
    "                         .returned_item_quantity.sum()\n",
    "                         .reset_index())\n",
    "\n",
    "# merge two dataframes\n",
    "orders_by_order_id = pd.merge(ordered_sum_by_order, \n",
    "                              returned_sum_by_order)\n",
    "\n",
    "orders_by_order_id[\"return_rate\"] = ((-1*orders_by_order_id[\"returned_item_quantity\"]) / \n",
    "                                     orders_by_order_id[\"ordered_item_quantity\"])\n",
    "\n",
    "print(\"Average return rate per order is: \"'%.4f'%orders_by_order_id[\"return_rate\"].mean())"
   ]
  },
  {
   "cell_type": "markdown",
   "metadata": {},
   "source": [
    "Average return rate for orders are %0.1 which is not signifcantly different than the unit return rate."
   ]
  },
  {
   "cell_type": "markdown",
   "metadata": {},
   "source": [
    "<h3> Unit return rate for customers who ordered multiple sizes: </h3>\n",
    "* To answer this question, tshirts and trousers/shorts/jeans will be considered seperately. <br>\n",
    "* Size is considered S, M, L, XL (and so on) for t-shirts and waist size for trousers/jeans/shorts. Rest of the elements in the `variant_title` considered as cuts. <br>\n",
    "* Trousers dataframe that is created for question 3 will be used for this analysis. <br>\n",
    "* Tshirts dataframe will be created. <br>"
   ]
  },
  {
   "cell_type": "markdown",
   "metadata": {},
   "source": [
    "<h4> Create tshirts dataframe and add size column"
   ]
  },
  {
   "cell_type": "code",
   "execution_count": 19,
   "metadata": {},
   "outputs": [],
   "source": [
    "# create tshirts dataframe and fetch size from variant_title\n",
    "tshirts = positive_orders[(positive_orders.product_type == \"Product R\") \n",
    "                          | (positive_orders.product_type == \"Product N\")]\n",
    "\n",
    "tshirts[\"size\"] = (tshirts.variant_title\n",
    "                   .apply(lambda x: x.split(\" \")[0]))"
   ]
  },
  {
   "cell_type": "markdown",
   "metadata": {},
   "source": [
    "<h4> Create functions to identify customers who order multiple sizes"
   ]
  },
  {
   "cell_type": "code",
   "execution_count": 20,
   "metadata": {},
   "outputs": [],
   "source": [
    "def encode_sizes(column):\n",
    "    '''function to encode a size into 1 if bought, 0 if not bought'''\n",
    "    if column > 0:\n",
    "        return 1\n",
    "    if column <= 0:\n",
    "        return 0\n",
    "\n",
    "def aggregate_by_ordered_quantity(dataframe, column_list):\n",
    "    '''this function:\n",
    "    1. aggregates a given dataframe by column list, \n",
    "    as a result creates a aggregated dataframe by counting the ordered item quantities\n",
    "    \n",
    "    2. adds number_of_sizes_ordered column to the aggregated dataframe by encoding ordered sizes into 1\n",
    "    \n",
    "    3. creates final dataframe containing information about \n",
    "    how many sizes are ordered, based on the first element passed in the column list'''\n",
    "    \n",
    "    aggregated_dataframe = (dataframe\n",
    "                            .groupby(column_list)\n",
    "                            .ordered_item_quantity.count()\n",
    "                            .reset_index())\n",
    "    \n",
    "    aggregated_dataframe[\"num_of_sizes_ordered\"] = (aggregated_dataframe\n",
    "                                                    .ordered_item_quantity\n",
    "                                                    .apply(encode_sizes))\n",
    "    \n",
    "    final_dataframe = (aggregated_dataframe\n",
    "                       .groupby(column_list[0])\n",
    "                       .num_of_sizes_ordered.sum()\n",
    "                       .reset_index())\n",
    "    \n",
    "    return final_dataframe"
   ]
  },
  {
   "cell_type": "markdown",
   "metadata": {},
   "source": [
    "<h4> Identify customers who order multiple sizes in trousers or t-shirts category"
   ]
  },
  {
   "cell_type": "code",
   "execution_count": 21,
   "metadata": {},
   "outputs": [
    {
     "name": "stdout",
     "output_type": "stream",
     "text": [
      "for trousers/jeans/denims:\n",
      "   customer_id  num_of_sizes_ordered\n",
      "0    127910189                     2\n",
      "1    129061503                     2\n",
      "2    129387031                     1\n",
      "3    129422341                     3\n",
      "4    129502193                     1\n",
      "for tshirts:\n",
      "   customer_id  num_of_sizes_ordered\n",
      "0    127910189                     1\n",
      "1    129387031                     1\n",
      "2    129422341                     1\n",
      "3    162675281                     1\n",
      "4    229529117                     1\n"
     ]
    }
   ],
   "source": [
    "# apply functions to trousers\n",
    "customers_by_size_orders1 = aggregate_by_ordered_quantity(trousers, [\"customer_id\", \"waist_size\"])\n",
    "print(\"for trousers/jeans/denims:\")\n",
    "print(customers_by_size_orders1.head())\n",
    "\n",
    "# apply functions to tshirts\n",
    "customers_by_size_orders2 = aggregate_by_ordered_quantity(tshirts, [\"customer_id\", \"size\"])\n",
    "print(\"for tshirts:\")\n",
    "print(customers_by_size_orders2.head())\n",
    "\n",
    "# concatenate two dataframes for the customers who ordered multiple sizes and drop duplicates\n",
    "customers_by_size_orders = (pd\n",
    "                            .concat([customers_by_size_orders1[customers_by_size_orders1.num_of_sizes_ordered > 1], \n",
    "                                      customers_by_size_orders2[customers_by_size_orders2.num_of_sizes_ordered > 1]]))\n",
    "\n",
    "customers_by_size_orders.drop_duplicates(subset=[\"customer_id\"], inplace=True)\n",
    "# now we have a dataset that indicates customer_ids who ordered multiple sizes either in tshirts or trousers/shorts/denims"
   ]
  },
  {
   "cell_type": "markdown",
   "metadata": {},
   "source": [
    "<h4> Prepare datasets for unit return rate calculation"
   ]
  },
  {
   "cell_type": "code",
   "execution_count": 22,
   "metadata": {},
   "outputs": [
    {
     "data": {
      "text/html": [
       "<div>\n",
       "<style scoped>\n",
       "    .dataframe tbody tr th:only-of-type {\n",
       "        vertical-align: middle;\n",
       "    }\n",
       "\n",
       "    .dataframe tbody tr th {\n",
       "        vertical-align: top;\n",
       "    }\n",
       "\n",
       "    .dataframe thead th {\n",
       "        text-align: right;\n",
       "    }\n",
       "</style>\n",
       "<table border=\"1\" class=\"dataframe\">\n",
       "  <thead>\n",
       "    <tr style=\"text-align: right;\">\n",
       "      <th></th>\n",
       "      <th>customer_id</th>\n",
       "      <th>num_of_sizes_ordered</th>\n",
       "      <th>ordered_item_quantity</th>\n",
       "      <th>returned_item_quantity</th>\n",
       "    </tr>\n",
       "  </thead>\n",
       "  <tbody>\n",
       "    <tr>\n",
       "      <td>0</td>\n",
       "      <td>127910189</td>\n",
       "      <td>2</td>\n",
       "      <td>9</td>\n",
       "      <td>0</td>\n",
       "    </tr>\n",
       "    <tr>\n",
       "      <td>1</td>\n",
       "      <td>129061503</td>\n",
       "      <td>2</td>\n",
       "      <td>2</td>\n",
       "      <td>0</td>\n",
       "    </tr>\n",
       "    <tr>\n",
       "      <td>2</td>\n",
       "      <td>129422341</td>\n",
       "      <td>3</td>\n",
       "      <td>10</td>\n",
       "      <td>0</td>\n",
       "    </tr>\n",
       "    <tr>\n",
       "      <td>3</td>\n",
       "      <td>161812917</td>\n",
       "      <td>2</td>\n",
       "      <td>5</td>\n",
       "      <td>0</td>\n",
       "    </tr>\n",
       "    <tr>\n",
       "      <td>4</td>\n",
       "      <td>266997333</td>\n",
       "      <td>2</td>\n",
       "      <td>2</td>\n",
       "      <td>0</td>\n",
       "    </tr>\n",
       "  </tbody>\n",
       "</table>\n",
       "</div>"
      ],
      "text/plain": [
       "   customer_id  num_of_sizes_ordered  ordered_item_quantity  \\\n",
       "0    127910189                     2                      9   \n",
       "1    129061503                     2                      2   \n",
       "2    129422341                     3                     10   \n",
       "3    161812917                     2                      5   \n",
       "4    266997333                     2                      2   \n",
       "\n",
       "   returned_item_quantity  \n",
       "0                       0  \n",
       "1                       0  \n",
       "2                       0  \n",
       "3                       0  \n",
       "4                       0  "
      ]
     },
     "metadata": {},
     "output_type": "display_data"
    }
   ],
   "source": [
    "# aggregate data per customer_id, to see ordered item sum and returned sum per customer\n",
    "ordered_sum_by_customer = (positive_orders\n",
    "                           .groupby(\"customer_id\")\n",
    "                           .ordered_item_quantity.sum()\n",
    "                           .reset_index())\n",
    "\n",
    "returned_sum_by_customer = (positive_orders\n",
    "                            .groupby(\"customer_id\")\n",
    "                            .returned_item_quantity.sum()\n",
    "                            .reset_index())\n",
    "\n",
    "# merge two dataframes to be able to calculate unit return rate\n",
    "orders_by_customer_id = pd.merge(ordered_sum_by_customer, returned_sum_by_customer)\n",
    "\n",
    "# inner join orders_by_cust_id and customers_by_size_orders \n",
    "# to calculate the unit return rate customers with multiple size orders\n",
    "customers_with_multiple_orders = pd.merge(customers_by_size_orders,\n",
    "                                          orders_by_customer_id,\n",
    "                                          on=\"customer_id\")\n",
    "\n",
    "display(customers_with_multiple_orders.head())"
   ]
  },
  {
   "cell_type": "markdown",
   "metadata": {},
   "source": [
    "<h4> Unit return rate calculation for the identified customers"
   ]
  },
  {
   "cell_type": "code",
   "execution_count": 23,
   "metadata": {},
   "outputs": [
    {
     "name": "stdout",
     "output_type": "stream",
     "text": [
      "The unit return rate is : 0.0014\n"
     ]
    }
   ],
   "source": [
    "# to look at unit return rate for the customers ordered multiple sizes, \n",
    "# ratio of all returned items to the ordered items will be investigated\n",
    "returned_sum_multiple = float(-1 * customers_with_multiple_orders.returned_item_quantity.sum())\n",
    "\n",
    "ordered_sum_multiple = float(customers_with_multiple_orders.ordered_item_quantity.sum())\n",
    "\n",
    "unit_return_rate_multiple = returned_sum_multiple / ordered_sum_multiple\n",
    "\n",
    "print(\"The unit return rate is : \"'%.4f'%unit_return_rate_multiple)"
   ]
  },
  {
   "cell_type": "markdown",
   "metadata": {},
   "source": [
    "**Looks like return rate of the company are really low in all of the 3 cases:**\n",
    "* unit return for all customers (0.0012)\n",
    "* average return rate per order (0.0014)\n",
    "* unit return rate for customers who order multiple sizes (0.0014)"
   ]
  },
  {
   "cell_type": "markdown",
   "metadata": {},
   "source": [
    "<h2> Did you find anything interesting in the way this data is structured? </h2>\n",
    "\n",
    "1) One interesting thing is: there were more than 10000 rows whose `ordered_item_quantity` is 0 and `returned_item_quantity` is negative, which I assumed those SKUs are not sold at all, at the beginning of the analysis for questions 2, 3 and 4. \n",
    "\n",
    "2) Those rows might represent erroneous data in the orders data or volume gifts given to specific customers. Dataset needs more investigation on why items that are not ordered have returned.\n",
    "\n",
    "3) Another interesting thing is: In some rows, there is a gross sales value greater than 0, but net sales value is 0, which shows purchase made with a 100% discount. I thought these might be the purchases made without charge by the company employees or with coupons.\n",
    "\n",
    "4) Data was clean and well formatted, it had no NA values.\n",
    "\n",
    "5) There was no unique key in the dataset, since it looks like a joined table of customers and orders."
   ]
  },
  {
   "cell_type": "markdown",
   "metadata": {},
   "source": [
    "<h2> What analysis could we run using this data? </h2>\n",
    "\n",
    "**In addition to questions replied above, some insights can be drawn from the dataset are:**\n",
    "\n",
    "- Does discounts drive the sales of the company (by looking at the number of sales without discount vs number of discounted sales)? \n",
    "\n",
    "- Does price have an affect on buying multiple items in one order?\n",
    "\n",
    "- What is the monthly, quarterly sales volume?\n",
    "\n",
    "- What is the monthly, quarterly return rate?\n",
    "\n",
    "- Are there any specific SKUs or collections that are returned frequently?\n",
    "\n",
    "- Do the customers have a favorite weekday to do shopping?\n",
    "\n",
    "- Are weekend sales more than weekday sales?\n",
    "\n",
    "- Does seasonality affect the sales of particular collections?\n",
    "\n",
    "- Which colors are more popular among customers?\n",
    "\n",
    "- Which builds (A, B, C) are sold most?\n",
    "\n",
    "- Is fixed leg size(28, 29, 30 and so on) or finished to order, make to order leg sizes ordered more?\n",
    "\n",
    "- Who are our most loyal (frequently orders from the company) customers? (by doing customer segmentation)\n",
    "\n",
    "- Does the company have a price range that sells more (E.g. to determine pricing for a new collection)?\n",
    "\n",
    "- Which gift card is sold more?"
   ]
  }
 ],
 "metadata": {
  "kernelspec": {
   "display_name": "Python 3",
   "language": "python",
   "name": "python3"
  },
  "language_info": {
   "codemirror_mode": {
    "name": "ipython",
    "version": 3
   },
   "file_extension": ".py",
   "mimetype": "text/x-python",
   "name": "python",
   "nbconvert_exporter": "python",
   "pygments_lexer": "ipython3",
   "version": "3.7.4"
  },
  "toc": {
   "base_numbering": 1,
   "nav_menu": {},
   "number_sections": true,
   "sideBar": true,
   "skip_h1_title": false,
   "title_cell": "Table of Contents",
   "title_sidebar": "Contents",
   "toc_cell": false,
   "toc_position": {},
   "toc_section_display": true,
   "toc_window_display": true
  },
  "varInspector": {
   "cols": {
    "lenName": 16,
    "lenType": 16,
    "lenVar": 40
   },
   "kernels_config": {
    "python": {
     "delete_cmd_postfix": "",
     "delete_cmd_prefix": "del ",
     "library": "var_list.py",
     "varRefreshCmd": "print(var_dic_list())"
    },
    "r": {
     "delete_cmd_postfix": ") ",
     "delete_cmd_prefix": "rm(",
     "library": "var_list.r",
     "varRefreshCmd": "cat(var_dic_list()) "
    }
   },
   "position": {
    "height": "465.85px",
    "left": "722px",
    "right": "20px",
    "top": "145px",
    "width": "564px"
   },
   "types_to_exclude": [
    "module",
    "function",
    "builtin_function_or_method",
    "instance",
    "_Feature"
   ],
   "window_display": false
  }
 },
 "nbformat": 4,
 "nbformat_minor": 2
}
